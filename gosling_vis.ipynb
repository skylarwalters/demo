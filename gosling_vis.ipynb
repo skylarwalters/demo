{
 "cells": [
  {
   "cell_type": "markdown",
   "metadata": {},
   "source": [
    "# Gosling Demo"
   ]
  },
  {
   "cell_type": "markdown",
   "metadata": {},
   "source": [
    "In this notebook, I am going to do an example gosling demo. This will include:\n",
    "1. A basic gosling visualization of gene expression data\n",
    "2. Several tutorials from the 2022 ISMB demo\n",
    "3. A recreation of [this](https://gosling.js.org/?example=LINKING) visualization using the gos package"
   ]
  },
  {
   "cell_type": "code",
   "execution_count": 2,
   "metadata": {},
   "outputs": [],
   "source": [
    "# imports\n",
    "import gosling as gos"
   ]
  },
  {
   "cell_type": "markdown",
   "metadata": {},
   "source": [
    "#### 1. Gene expression data (warmup)\n",
    "To start, I am making a basic visual of gene expression data using the BIGWIG ChIP-seq dataset in the gosling documentation. This is to test out different configurations and how they impact a visualization.\n",
    "\n",
    "Dataset: [BigWig ChIP-seq for H2AZ](https://s3.amazonaws.com/gosling-lang.org/data/4DNFIMPI5A9N.bw), from gosling plain datasets"
   ]
  },
  {
   "cell_type": "code",
   "execution_count": 3,
   "metadata": {},
   "outputs": [],
   "source": [
    "# create a new track\n",
    "vis = gos.Track(\n",
    "    data=gos.BigWigData(\n",
    "        'bigwig',\n",
    "        url='https://4dn-open-data-public.s3.amazonaws.com/fourfront-webprod/wfoutput/a57e91de-47f9-4157-9462-50fc78f357e3/4DNFIMPI5A9N.bw',\n",
    "        # setting this value allows you to update the value of y!\n",
    "        #column='position'\n",
    "        value='line'\n",
    "    ),\n",
    ").mark_area(\n",
    "    # mark_area: sets the output to an area graph\n",
    "    # other option that may apply here --> mark_line\n",
    ").encode(\n",
    "    # can use this format for x, or set x to the column setting from the data declaration\n",
    "    x=gos.X('position:G', domain=gos.DomainChr('chr2')),\n",
    "    # DomainChr: allows you to zoom on a specific chromosome\n",
    "    y='line:Q'\n",
    ").view()\n",
    "\n",
    "# can also save as html to view in browser!\n",
    "vis.save('visuals/single-track/basic-gene-expr.json')"
   ]
  },
  {
   "cell_type": "markdown",
   "metadata": {},
   "source": [
    "### 2. Tutorials\n",
    "In this section, I'm going to learn more about writing in-depth gosling specs via the ISMB tutorials. "
   ]
  },
  {
   "cell_type": "markdown",
   "metadata": {},
   "source": [
    "#### Single Track\n",
    "Data: [BED file](https://raw.githubusercontent.com/sehilyi/gemini-datasets/master/data/UCSC.HG38.Human.CytoBandIdeogram.bed) with cytoband information"
   ]
  },
  {
   "cell_type": "code",
   "execution_count": 4,
   "metadata": {},
   "outputs": [],
   "source": [
    "# import data into csv wrapper\n",
    "data=gos.csv(\n",
    "    url='https://raw.githubusercontent.com/sehilyi/gemini-datasets/master/data/UCSC.HG38.Human.CytoBandIdeogram.bed',\n",
    "    separator=\"\\t\",\n",
    "    # identify headers and genomic fields\n",
    "    headerNames=['chrom', 'chromStart', 'chromEnd', 'name', 'stain'],\n",
    "    chromosomeField=\"chrom\",\n",
    "    genomicFields=[\"chromStart\", \"chromEnd\"]\n",
    ")\n",
    "\n",
    "# add data to track and view\n",
    "view = gos.Track(data).mark_point().encode(\n",
    "    # apply visual encoding\n",
    "    x=gos.X('chromStart', type='genomic'),\n",
    "    # or: x=gos.X('chromStart:G')\n",
    "    # including the Y code below will add a y axis with same data\n",
    "    #y=gos.Y('chromStart', type='genomic',axis='left'),\n",
    "    color=gos.value('lightblue')\n",
    ").view()\n",
    "\n",
    "# save as json and html (html for easy visual purposes)\n",
    "view.save('visuals/single-track/tutorial-intro.json')"
   ]
  },
  {
   "cell_type": "code",
   "execution_count": 5,
   "metadata": {},
   "outputs": [],
   "source": [
    "'''\n",
    "exercise: add following changes to code:\n",
    "- add a size encoding with the constant value 10\n",
    "- change the mark type from point to triangleRight\n",
    "- add a y encoding to use the \"chromEnd\" field instead of \"chromStart\"\n",
    "- change the width and height of the track to be 500\n",
    "'''\n",
    "tracky = gos.Track(data).mark_triangleRight().encode(\n",
    "    x=gos.X(\"chromStart\", type=\"genomic\"),\n",
    "    y=gos.Y(\"chromEnd\", type=\"genomic\", axis=\"left\"),\n",
    "    # additional encodings ...\n",
    "    size=gos.value(10)\n",
    "\n",
    ").properties(\n",
    "    # track property overrides ...\n",
    "    width=500,\n",
    "    height=500\n",
    ").view()\n",
    "\n",
    "# view as html!\n",
    "tracky.save('visuals/single-track/tutorial-exercise.json')"
   ]
  },
  {
   "cell_type": "markdown",
   "metadata": {},
   "source": [
    "Next, we will expand this single-track visual by adding multiple domains and ranges, allowing for us to stratify each domain by color"
   ]
  },
  {
   "cell_type": "code",
   "execution_count": 6,
   "metadata": {},
   "outputs": [],
   "source": [
    "color_strat= gos.Track(data).mark_point().encode(\n",
    "    x=gos.X('chromStart:G'),\n",
    "    y=gos.Y('stain:N'),\n",
    "    color=gos.Color(\n",
    "        # separate by color\n",
    "        'stain:N',\n",
    "        domain=[\"gneg\", \"gpos25\", \"gpos50\", \"gpos75\", \"gpos100\", \"gvar\"],\n",
    "        # define color per domain (recall mapping from domain to range!)\n",
    "        range=['#265653', '#2A9D8F', '#8AB17D', '#E9C46A', '#F4A261', '#E76F51'],\n",
    "        # add legend\n",
    "        legend=True\n",
    "    )\n",
    ").view()\n",
    "color_strat.save('visuals/single-track/stratified-color.json')"
   ]
  },
  {
   "cell_type": "markdown",
   "metadata": {},
   "source": [
    "#### Combining Tracks\n",
    "Now that we can do simple tracks, we can move on to composite tracks. This will use four subsets of a scATAC-seq dataset from Corces et al (2020)."
   ]
  },
  {
   "cell_type": "code",
   "execution_count": 7,
   "metadata": {},
   "outputs": [],
   "source": [
    "# access data through url list\n",
    "urls = [\n",
    "    f\"https://s3.amazonaws.com/gosling-lang.org/data/{file}\"\n",
    "    for file in [\n",
    "        \"ExcitatoryNeurons-insertions_bin100_RIPnorm.bw\",\n",
    "        \"InhibitoryNeurons-insertions_bin100_RIPnorm.bw\",\n",
    "        \"Microglia-insertions_bin100_RIPnorm.bw\",\n",
    "        \"Astrocytes-insertions_bin100_RIPnorm.bw\",\n",
    "    ]\n",
    "]\n",
    "\n",
    "# use data from first url\n",
    "data = gos.bigwig(\n",
    "    urls[0], \n",
    "    column='position', \n",
    "    value='peak'\n",
    ")\n",
    "\n",
    "# use base track to derive other tracks --> do not have to repeat defs\n",
    "base = gos.Track(data).encode(\n",
    "    x=gos.X('position:G')\n",
    ").properties(height=100)\n",
    "\n",
    "heatmap = base.mark_rect().encode(\n",
    "    # color code based on the size of the peaks to create a heatmap\n",
    "    color=gos.Color('peak:Q')\n",
    ").view()\n",
    "\n",
    "line_graph = base.mark_line().encode(\n",
    "    # create line graph\n",
    "    y=gos.Y(\"peak:Q\"),\n",
    "    color=gos.value(\"black\")\n",
    ")\n",
    "\n",
    "points = line_graph.mark_point()\n",
    "\n",
    "colored_points = points.encode(\n",
    "    # add color to points corresponding w/ height\n",
    "    color=gos.Color('peak:Q'),\n",
    ")\n",
    "\n",
    "# overlay the two views.\n",
    "overlaid_view = gos.overlay(line_graph, colored_points)\n",
    "\n",
    "overlaid_view.save('visuals/single-track/single_track_overlay.json')\n"
   ]
  },
  {
   "cell_type": "markdown",
   "metadata": {},
   "source": [
    "Now that we can reuse tracks to change our visual and add overlays, we can now use the same track definition to create visuals of other data sources!"
   ]
  },
  {
   "cell_type": "code",
   "execution_count": 8,
   "metadata": {},
   "outputs": [],
   "source": [
    "# create function to generate barplot for any scATAC-seq\n",
    "def barplot(url: str, title: str=None, color: str=None):\n",
    "    data=gos.bigwig(\n",
    "        url=url, \n",
    "        column='position', \n",
    "        value='peak'\n",
    "    )\n",
    "    track=gos.Track(data).mark_bar().encode(\n",
    "        x=gos.X('position:G'),\n",
    "        y=gos.Y('peak:Q', axis='right')\n",
    "    )\n",
    "    if color:\n",
    "        track=track.encode(color=gos.value(color))\n",
    "    if title:\n",
    "        track=track.properties(title=title)\n",
    "    return track.properties(height=80)\n",
    "\n",
    "# iterate through and save each json!\n",
    "for i in range(0, len(urls)):\n",
    "    barplot(urls[i], f'Iterative view of plot {i}').view().save(f'visuals/single-track/iterative-view-{i}.json')\n"
   ]
  },
  {
   "cell_type": "markdown",
   "metadata": {},
   "source": [
    "Suppose we want to align these plots. We can zip the colors and tracks such that\n",
    "the colors will be divided based on url and the barplots can be aligned."
   ]
  },
  {
   "cell_type": "code",
   "execution_count": 9,
   "metadata": {},
   "outputs": [],
   "source": [
    "all_tracks = []\n",
    "\n",
    "for url, color in zip(urls, ['#2A9D8F', '#8AB17D', '#E9C46A', '#F4A261']):\n",
    "    title = url.split(\"/\")[-1].split(\"-\")[0]\n",
    "    track = barplot(url=url, title=title, color=color)\n",
    "    all_tracks.append(track)\n",
    "\n",
    "# use gos.stack to stack into a view\n",
    "gos.stack(*all_tracks).properties(\n",
    "    xDomain=(gos.GenomicDomain(chromosome='1'))\n",
    ").save('visuals/single-track/stacked_views.json')\n",
    "\n",
    "# and, for good measure, a craaaazy mess of a visualization: overlay\n",
    "gos.overlay(*all_tracks).properties(\n",
    "    xDomain=(gos.GenomicDomain(chromosome='1')),\n",
    ").save('visuals/single-track/overlaid_bars.json')\n",
    "# what a terrible visualization. cool i could make it though :D"
   ]
  },
  {
   "cell_type": "markdown",
   "metadata": {},
   "source": [
    "#### 3. Visual Linking\n",
    "The goal of this section is to recreate [this](https://gosling.js.org/?example=LINKING) visualization using gos\n",
    "\n",
    "How is this being structured?\n",
    "- view with 3 tracks\n",
    "    - one subview (horizontal) and one track\n",
    "\n",
    "To do this, we can structure from the individual tracks up to the views (recall that alignment happens in the view level!)"
   ]
  },
  {
   "cell_type": "markdown",
   "metadata": {},
   "source": [
    "We can complete this by writing each track individually, then combining them into a big view. How do you eat an elephant? You chunk it down."
   ]
  },
  {
   "cell_type": "code",
   "execution_count": 93,
   "metadata": {},
   "outputs": [],
   "source": [
    "# first, define the data\n",
    "data=gos.MultivecData(\n",
    "        type='multivec',\n",
    "        url='https://server.gosling-lang.org/api/v1/tileset_info/?d=cistrome-multivec',\n",
    "        row='sample',\n",
    "        column='position',\n",
    "        value='peak',\n",
    "        # define categories for use in individual overlays!\n",
    "        categories = ['sample 1', 'sample 2', 'sample 3', 'sample 4'],\n",
    ")"
   ]
  },
  {
   "cell_type": "code",
   "execution_count": 94,
   "metadata": {},
   "outputs": [],
   "source": [
    "# create upper left track\n",
    "base_chart=gos.Track(\n",
    "    data=data,\n",
    "    ).mark_bar().encode(\n",
    "        # use start and end to define x\n",
    "        row='sample:N',\n",
    "        x=gos.X('start:G', \n",
    "                domain=gos.GenomicDomain(gos.DomainChr(chromosome='chr1')),),\n",
    "        xe='end:G',\n",
    "        y='peak:Q',\n",
    "        color=gos.Color('sample:N', legend=True),\n",
    "    )\n",
    "\n",
    "# view chart\n",
    "#base_chart.view().save('visuals/recreation/base_view.json')"
   ]
  },
  {
   "cell_type": "markdown",
   "metadata": {},
   "source": [
    "We will use this base chart as both our linear and circular visuals— both will have the brush functionality sweeping over the chart. Advantage of using a track is that you can make two views with it!!\n",
    "\n",
    "Now, we are going to make the brush and detailed view. The detailed view will be based on our initial base_chart, but will have a smaller genomic domain."
   ]
  },
  {
   "cell_type": "code",
   "execution_count": 109,
   "metadata": {},
   "outputs": [],
   "source": [
    "detailed_track=base_chart.encode(\n",
    "    x=gos.X(\n",
    "        'start:G',\n",
    "        # use style to set background color + opacity\n",
    "        domain=gos.GenomicDomain(gos.DomainChrInterval(chromosome='chr1', interval=[0, 20000000])),\n",
    "        # use linking id\n",
    "        linkingId='brushId'\n",
    "    ),\n",
    "    style=gos.Style(background='steelblue', backgroundOpacity=0.2),\n",
    ").properties(\n",
    "    width=1000,\n",
    "    height=300,\n",
    "    title=\"Detailed View\"\n",
    ")\n",
    "\n",
    "# view chart\n",
    "#detailed_track.view().save('visuals/recreation/detail_view.json')"
   ]
  },
  {
   "cell_type": "markdown",
   "metadata": {},
   "source": [
    "Next, we can make the brush track views. This will entail \n",
    "1. Making the circle_view from the base view and adding a brush\n",
    "2. Making the linear_view from the base view and adding a brush"
   ]
  },
  {
   "cell_type": "code",
   "execution_count": 110,
   "metadata": {},
   "outputs": [],
   "source": [
    "brush_track=base_chart.mark_brush().encode(\n",
    "    x=gos.X(\n",
    "        'start:G',\n",
    "        linkingId='brushId'\n",
    "    ),\n",
    "    color=gos.value('steelblue')\n",
    ")\n",
    "\n",
    "# create views\n",
    "circle_brush_track=base_chart.properties(\n",
    "    layout='circular',\n",
    "    static=True,\n",
    ")\n",
    "linear_brush_track=base_chart.properties(\n",
    "    static=True\n",
    ").properties(\n",
    "    height=400\n",
    ")\n",
    "\n",
    "# overlay brush onto views\n",
    "circ_overview=gos.overlay(\n",
    "    circle_brush_track,\n",
    "    brush_track\n",
    ").properties(\n",
    "    layout='circular'\n",
    ")\n",
    "\n",
    "lin_overview=gos.overlay(\n",
    "    linear_brush_track,\n",
    "    brush_track\n",
    ")"
   ]
  },
  {
   "cell_type": "markdown",
   "metadata": {},
   "source": [
    "Finally, create a composition of the sections\n"
   ]
  },
  {
   "cell_type": "code",
   "execution_count": 111,
   "metadata": {},
   "outputs": [],
   "source": [
    "aligned_views=gos.horizontal(\n",
    "    circ_overview,\n",
    "    lin_overview\n",
    ")\n",
    "final_view=gos.vertical(\n",
    "    aligned_views,\n",
    "    detailed_track\n",
    ").properties(\n",
    "    title=\"Recreation of Example Visual\"\n",
    ")\n",
    "\n",
    "final_view.save('visuals/recreation/recreated_view.json')"
   ]
  }
 ],
 "metadata": {
  "kernelspec": {
   "display_name": "hidive-env",
   "language": "python",
   "name": "python3"
  },
  "language_info": {
   "codemirror_mode": {
    "name": "ipython",
    "version": 3
   },
   "file_extension": ".py",
   "mimetype": "text/x-python",
   "name": "python",
   "nbconvert_exporter": "python",
   "pygments_lexer": "ipython3",
   "version": "3.13.4"
  }
 },
 "nbformat": 4,
 "nbformat_minor": 2
}
