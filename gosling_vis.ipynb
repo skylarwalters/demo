{
 "cells": [
  {
   "cell_type": "markdown",
   "metadata": {},
   "source": [
    "# Gosling Demo"
   ]
  },
  {
   "cell_type": "markdown",
   "metadata": {},
   "source": [
    "In this notebook, I am going to do an example gosling demo. This will include:\n",
    "1. A basic gosling visualization of gene expression data\n",
    "2. Several tutorials from the 2022 ISMB demo\n",
    "3. A heatmap\n",
    "4. A recreation of [this](https://gosling.js.org/?example=LINKING) visualization using the gos package"
   ]
  },
  {
   "cell_type": "code",
   "execution_count": 154,
   "metadata": {},
   "outputs": [],
   "source": [
    "# imports\n",
    "import gosling as gos"
   ]
  },
  {
   "cell_type": "markdown",
   "metadata": {},
   "source": [
    "#### Warmup: Gene expression data\n",
    "To start, I am making a basic visual of gene expression data using the BIGWIG ChIP-seq dataset in the gosling documentation. This is to test out different configurations and how they impact a visualization.\n",
    "\n",
    "Dataset: [BigWig ChIP-seq for H2AZ](https://s3.amazonaws.com/gosling-lang.org/data/4DNFIMPI5A9N.bw), from gosling plain datasets"
   ]
  },
  {
   "cell_type": "code",
   "execution_count": 155,
   "metadata": {},
   "outputs": [],
   "source": [
    "# create a new track\n",
    "vis = gos.Track(\n",
    "    data=gos.BigWigData(\n",
    "        'bigwig',\n",
    "        url='https://4dn-open-data-public.s3.amazonaws.com/fourfront-webprod/wfoutput/a57e91de-47f9-4157-9462-50fc78f357e3/4DNFIMPI5A9N.bw',\n",
    "        # setting this value allows you to update the value of y!\n",
    "        #column='position'\n",
    "        value='line'\n",
    "    ),\n",
    ").mark_area(\n",
    "    # mark_area: sets the output to an area graph\n",
    "    # other option that may apply here --> mark_line\n",
    ").encode(\n",
    "    # can use this format for x, or set x to the column setting from the data declaration\n",
    "    x=gos.X('position:G', domain=gos.DomainChr('chr2')),\n",
    "    # DomainChr: allows you to zoom on a specific chromosome\n",
    "    y='line:Q'\n",
    ").view()\n",
    "\n",
    "# can also save as html to view in browser!\n",
    "vis.save('visuals/single-track/basic-gene-expr.json')"
   ]
  },
  {
   "cell_type": "markdown",
   "metadata": {},
   "source": [
    "### Tutorials\n",
    "In this section, I'm going to learn more about writing in-depth gosling specs via the ISMB tutorials. "
   ]
  },
  {
   "cell_type": "markdown",
   "metadata": {},
   "source": [
    "#### Single Track\n",
    "Data: [BED file](https://raw.githubusercontent.com/sehilyi/gemini-datasets/master/data/UCSC.HG38.Human.CytoBandIdeogram.bed) with cytoband information"
   ]
  },
  {
   "cell_type": "code",
   "execution_count": 156,
   "metadata": {},
   "outputs": [],
   "source": [
    "# import data into csv wrapper\n",
    "data=gos.csv(\n",
    "    url='https://raw.githubusercontent.com/sehilyi/gemini-datasets/master/data/UCSC.HG38.Human.CytoBandIdeogram.bed',\n",
    "    separator=\"\\t\",\n",
    "    # identify headers and genomic fields\n",
    "    headerNames=['chrom', 'chromStart', 'chromEnd', 'name', 'stain'],\n",
    "    chromosomeField=\"chrom\",\n",
    "    genomicFields=[\"chromStart\", \"chromEnd\"]\n",
    ")\n",
    "\n",
    "# add data to track and view\n",
    "view = gos.Track(data).mark_point().encode(\n",
    "    # apply visual encoding\n",
    "    x=gos.X('chromStart', type='genomic'),\n",
    "    # or: x=gos.X('chromStart:G')\n",
    "    # including the Y code below will add a y axis with same data\n",
    "    #y=gos.Y('chromStart', type='genomic',axis='left'),\n",
    "    color=gos.value('lightblue')\n",
    ").view()\n",
    "\n",
    "# save as json and html (html for easy visual purposes)\n",
    "view.save('visuals/single-track/tutorial-intro.json')"
   ]
  },
  {
   "cell_type": "code",
   "execution_count": 157,
   "metadata": {},
   "outputs": [],
   "source": [
    "'''\n",
    "exercise: add following changes to code:\n",
    "- add a size encoding with the constant value 10\n",
    "- change the mark type from point to triangleRight\n",
    "- add a y encoding to use the \"chromEnd\" field instead of \"chromStart\"\n",
    "- change the width and height of the track to be 500\n",
    "'''\n",
    "tracky = gos.Track(data).mark_triangleRight().encode(\n",
    "    x=gos.X(\"chromStart\", type=\"genomic\"),\n",
    "    y=gos.Y(\"chromEnd\", type=\"genomic\", axis=\"left\"),\n",
    "    # additional encodings ...\n",
    "    size=gos.value(10)\n",
    "\n",
    ").properties(\n",
    "    # track property overrides ...\n",
    "    width=500,\n",
    "    height=500\n",
    ").view()\n",
    "\n",
    "# view as html!\n",
    "tracky.save('visuals/single-track/tutorial-exercise.json')"
   ]
  },
  {
   "cell_type": "markdown",
   "metadata": {},
   "source": [
    "Next, we will expand this single-track visual by adding multiple domains and ranges, allowing for us to stratify each domain by color"
   ]
  },
  {
   "cell_type": "code",
   "execution_count": 158,
   "metadata": {},
   "outputs": [],
   "source": [
    "color_strat= gos.Track(data).mark_point().encode(\n",
    "    x=gos.X('chromStart:G'),\n",
    "    y=gos.Y('stain:N'),\n",
    "    color=gos.Color(\n",
    "        # separate by color\n",
    "        'stain:N',\n",
    "        domain=[\"gneg\", \"gpos25\", \"gpos50\", \"gpos75\", \"gpos100\", \"gvar\"],\n",
    "        # define color per domain (recall mapping from domain to range!)\n",
    "        range=['#265653', '#2A9D8F', '#8AB17D', '#E9C46A', '#F4A261', '#E76F51'],\n",
    "        # add legend\n",
    "        legend=True\n",
    "    )\n",
    ").view()\n",
    "color_strat.save('visuals/single-track/stratified-color.json')"
   ]
  },
  {
   "cell_type": "markdown",
   "metadata": {},
   "source": [
    "#### Combining Tracks\n",
    "Now that we can do simple tracks, we can move on to composite tracks. This will use four subsets of a scATAC-seq dataset from Corces et al (2020)."
   ]
  },
  {
   "cell_type": "code",
   "execution_count": 159,
   "metadata": {},
   "outputs": [],
   "source": [
    "# access data through url list\n",
    "urls = [\n",
    "    f\"https://s3.amazonaws.com/gosling-lang.org/data/{file}\"\n",
    "    for file in [\n",
    "        \"ExcitatoryNeurons-insertions_bin100_RIPnorm.bw\",\n",
    "        \"InhibitoryNeurons-insertions_bin100_RIPnorm.bw\",\n",
    "        \"Microglia-insertions_bin100_RIPnorm.bw\",\n",
    "        \"Astrocytes-insertions_bin100_RIPnorm.bw\",\n",
    "    ]\n",
    "]\n",
    "\n",
    "# use data from first url\n",
    "data = gos.bigwig(\n",
    "    urls[0], \n",
    "    column='position', \n",
    "    value='peak'\n",
    ")\n",
    "\n",
    "# use base track to derive other tracks --> do not have to repeat defs\n",
    "base = gos.Track(data).encode(\n",
    "    x=gos.X('position:G')\n",
    ").properties(height=100)\n",
    "\n",
    "heatmap = base.mark_rect().encode(\n",
    "    # color code based on the size of the peaks to create a heatmap\n",
    "    color=gos.Color('peak:Q')\n",
    ").view()\n",
    "\n",
    "line_graph = base.mark_line().encode(\n",
    "    # create line graph\n",
    "    y=gos.Y(\"peak:Q\"),\n",
    "    color=gos.value(\"black\")\n",
    ")\n",
    "\n",
    "points = line_graph.mark_point()\n",
    "\n",
    "colored_points = points.encode(\n",
    "    # add color to points corresponding w/ height\n",
    "    color=gos.Color('peak:Q'),\n",
    ")\n",
    "\n",
    "# overlay the two views.\n",
    "overlaid_view = gos.overlay(line_graph, colored_points)\n",
    "\n",
    "overlaid_view.save('visuals/single-track/single_track_overlay.json')\n"
   ]
  },
  {
   "cell_type": "markdown",
   "metadata": {},
   "source": [
    "Now that we can reuse tracks to change our visual and add overlays, we can now use the same track definition to create visuals of other data sources!"
   ]
  },
  {
   "cell_type": "code",
   "execution_count": 186,
   "metadata": {},
   "outputs": [],
   "source": [
    "# create function to generate barplot for any scATAC-seq\n",
    "def barplot(url: str, title: str=None, color: str=None):\n",
    "    data=gos.bigwig(\n",
    "        url=url, \n",
    "        column='position', \n",
    "        value='peak'\n",
    "    )\n",
    "    track=gos.Track(data).mark_bar().encode(\n",
    "        x=gos.X('position:G'),\n",
    "        y=gos.Y('peak:Q', axis='right')\n",
    "    )\n",
    "    if color:\n",
    "        track=track.encode(color=gos.value(color))\n",
    "    if title:\n",
    "        track=track.properties(title=title)\n",
    "    return track.properties(height=80)\n",
    "\n",
    "# iterate through and save each json!\n",
    "for i in range(0, len(urls)):\n",
    "    barplot(urls[i], f'Iterative view of plot {i}').view().save(f'visuals/single-track/iterative-view-{i}.json')\n"
   ]
  },
  {
   "cell_type": "markdown",
   "metadata": {},
   "source": [
    "Suppose we want to align these plots. We can zip the colors and tracks such that\n",
    "the colors will be divided based on url and the barplots can be aligned."
   ]
  },
  {
   "cell_type": "code",
   "execution_count": 190,
   "metadata": {},
   "outputs": [],
   "source": [
    "all_tracks = []\n",
    "\n",
    "for url, color in zip(urls, ['#2A9D8F', '#8AB17D', '#E9C46A', '#F4A261']):\n",
    "    title = url.split(\"/\")[-1].split(\"-\")[0]\n",
    "    track = barplot(url=url, title=title, color=color)\n",
    "    all_tracks.append(track)\n",
    "\n",
    "# use gos.stack to stack into a view\n",
    "gos.stack(*all_tracks).properties(\n",
    "    xDomain=(gos.GenomicDomain(chromosome='1'))\n",
    ").save('visuals/single-track/stacked_views.json')\n",
    "\n",
    "# and, for good measure, a craaaazy mess of a visualization: overlay\n",
    "gos.overlay(*all_tracks).properties(\n",
    "    xDomain=(gos.GenomicDomain(chromosome='1')),\n",
    ").save('visuals/single-track/overlaid_bars.json')\n",
    "# what a terrible visualization. cool i could make it though :D"
   ]
  },
  {
   "cell_type": "markdown",
   "metadata": {},
   "source": [
    "Next, we are going to try out \n"
   ]
  },
  {
   "cell_type": "markdown",
   "metadata": {},
   "source": []
  },
  {
   "cell_type": "markdown",
   "metadata": {},
   "source": []
  },
  {
   "cell_type": "markdown",
   "metadata": {},
   "source": [
    "#### Visual Linking!!\n",
    "The goal of this section is to recreate [this](https://gosling.js.org/?example=LINKING) visualization using gos\n",
    "\n",
    "How is this being structured?\n",
    "- view with 3 tracks\n",
    "    - one subview (horizontal) and one track\n",
    "\n",
    "To do this, we can structure from the individual tracks up to the views (recall that alignment happens in the view level!)"
   ]
  },
  {
   "cell_type": "markdown",
   "metadata": {},
   "source": [
    "We can complete this by writing each track individually, then combining them into a big view. How do you eat an elephant? You chunk it down."
   ]
  },
  {
   "cell_type": "code",
   "execution_count": 242,
   "metadata": {},
   "outputs": [],
   "source": [
    "# first, define the data\n",
    "data=gos.MultivecData(\n",
    "        type='multivec',\n",
    "        url='https://server.gosling-lang.org/api/v1/tileset_info/?d=cistrome-multivec',\n",
    "        row='sample',\n",
    "        column='position',\n",
    "        value='peak',\n",
    "        # define categories for use in individual overlays!\n",
    "        categories = ['sample 1', 'sample 2', 'sample 3', 'sample 4'],\n",
    ")"
   ]
  },
  {
   "cell_type": "code",
   "execution_count": 250,
   "metadata": {},
   "outputs": [],
   "source": [
    "# create upper left track\n",
    "upper_left = gos.Track(\n",
    "    data=data,\n",
    ").mark_bar().encode(\n",
    "    x = gos.X('position:G', linkingId='sameId'),\n",
    "    y = gos.Y('peak:Q'),\n",
    "    row=gos.Row('sample:N'),\n",
    "    color='sample:N',\n",
    ")"
   ]
  },
  {
   "cell_type": "markdown",
   "metadata": {},
   "source": [
    "Now, we can create a brush that sweeps over the upper left image."
   ]
  },
  {
   "cell_type": "code",
   "execution_count": 251,
   "metadata": {},
   "outputs": [],
   "source": [
    "brush_track = upper_left.mark_brush().encode(\n",
    "    x=gos.X(\n",
    "        \"start:G\",\n",
    "        linkingId='sameId'\n",
    "    ),\n",
    "    color=gos.value('steelblue')\n",
    ")\n",
    "brush_track = brush_track.view().properties(\n",
    "    width=50\n",
    ")"
   ]
  },
  {
   "cell_type": "markdown",
   "metadata": {},
   "source": [
    "Next, we need to add a detailed view of the upper left image, but only the selections chosen by the brush."
   ]
  },
  {
   "cell_type": "code",
   "execution_count": 252,
   "metadata": {},
   "outputs": [],
   "source": [
    "# create detailed view\n",
    "detailed = upper_left.encode(\n",
    "    row='sample:N',\n",
    "    x=gos.X(\n",
    "        'start:G',\n",
    "        axis='bottom',\n",
    "        domain=gos.GenomicDomain(chromosome=\"7\", interval=[77700000, 81000000]),\n",
    "        linkingId='sameId'\n",
    "    )\n",
    ").view()\n",
    "detailed = detailed.properties(\n",
    "    layout='linear',\n",
    "    static=True\n",
    ")"
   ]
  },
  {
   "cell_type": "markdown",
   "metadata": {},
   "source": [
    "Now, we can make the upper left into a view"
   ]
  },
  {
   "cell_type": "code",
   "execution_count": 255,
   "metadata": {},
   "outputs": [
    {
     "ename": "AttributeError",
     "evalue": "'View' object has no attribute 'view'",
     "output_type": "error",
     "traceback": [
      "\u001b[31m---------------------------------------------------------------------------\u001b[39m",
      "\u001b[31mAttributeError\u001b[39m                            Traceback (most recent call last)",
      "\u001b[36mCell\u001b[39m\u001b[36m \u001b[39m\u001b[32mIn[255]\u001b[39m\u001b[32m, line 2\u001b[39m\n\u001b[32m      1\u001b[39m \u001b[38;5;66;03m# finish upper left view\u001b[39;00m\n\u001b[32m----> \u001b[39m\u001b[32m2\u001b[39m upper_left=\u001b[43mupper_left\u001b[49m\u001b[43m.\u001b[49m\u001b[43mview\u001b[49m()\n\u001b[32m      4\u001b[39m upper_left = upper_left.properties(\n\u001b[32m      5\u001b[39m     static=\u001b[38;5;28;01mTrue\u001b[39;00m,\n\u001b[32m      6\u001b[39m     layout=\u001b[33m'\u001b[39m\u001b[33mcircular\u001b[39m\u001b[33m'\u001b[39m\n\u001b[32m      7\u001b[39m )\n",
      "\u001b[36mFile \u001b[39m\u001b[32m~/Desktop/hidive/DQVis-Generation/hidive-env/lib/python3.13/site-packages/gosling/schemapi.py:258\u001b[39m, in \u001b[36mSchemaBase.__getattr__\u001b[39m\u001b[34m(self, attr)\u001b[39m\n\u001b[32m    256\u001b[39m \u001b[38;5;28;01mexcept\u001b[39;00m \u001b[38;5;167;01mAttributeError\u001b[39;00m:\n\u001b[32m    257\u001b[39m     _getattr = \u001b[38;5;28msuper\u001b[39m(SchemaBase, \u001b[38;5;28mself\u001b[39m).\u001b[34m__getattribute__\u001b[39m\n\u001b[32m--> \u001b[39m\u001b[32m258\u001b[39m \u001b[38;5;28;01mreturn\u001b[39;00m \u001b[43m_getattr\u001b[49m\u001b[43m(\u001b[49m\u001b[43mattr\u001b[49m\u001b[43m)\u001b[49m\n",
      "\u001b[31mAttributeError\u001b[39m: 'View' object has no attribute 'view'"
     ]
    }
   ],
   "source": [
    "# finish upper left view\n",
    "upper_left=upper_left.view()\n",
    "\n",
    "upper_left = upper_left.properties(\n",
    "    static=True,\n",
    "    layout='circular'\n",
    ")"
   ]
  },
  {
   "cell_type": "markdown",
   "metadata": {},
   "source": [
    "And finally, link it all together. "
   ]
  },
  {
   "cell_type": "code",
   "execution_count": 258,
   "metadata": {},
   "outputs": [
    {
     "ename": "SchemaValidationError",
     "evalue": "Invalid specification\n\n        gosling.api.View, validating 'anyOf'\n\n        {'alignment': 'overlay', 'tracks': [{'tracks': [{'data': {'type': 'multivec', 'url': 'https://server.gosling-lang.org/api/v1/tileset_info/?d=cistrome-multivec', 'categories': ['sample 1', 'sample 2', 'sample 3', 'sample 4'], 'column': 'position', 'row': 'sample', 'value': 'peak'}, 'mark': 'bar', 'color': {'field': 'sample', 'type': 'nominal'}, 'row': {'field': 'sample', 'type': 'nominal'}, 'x': {'field': 'position', 'linkingId': 'sameId', 'type': 'genomic'}, 'y': {'field': 'peak', 'type': 'quantitative'}}], 'static': True, 'layout': 'circular'}, {'tracks': [{'data': {'type': 'multivec', 'url': 'https://server.gosling-lang.org/api/v1/tileset_info/?d=cistrome-multivec', 'categories': ['sample 1', 'sample 2', 'sample 3', 'sample 4'], 'column': 'position', 'row': 'sample', 'value': 'peak'}, 'mark': 'brush', 'color': {'value': 'steelblue'}, 'row': {'field': 'sample', 'type': 'nominal'}, 'x': {'field': 'start', 'linkingId': 'sameId', 'type': 'genomic'}, 'y': {'field': 'peak', 'type': 'quantitative'}}], 'width': 50}]} is not valid under any of the given schemas\n        ",
     "output_type": "error",
     "traceback": [
      "\u001b[31m---------------------------------------------------------------------------\u001b[39m",
      "\u001b[31mSchemaValidationError\u001b[39m                     Traceback (most recent call last)",
      "\u001b[36mCell\u001b[39m\u001b[36m \u001b[39m\u001b[32mIn[258]\u001b[39m\u001b[32m, line 1\u001b[39m\n\u001b[32m----> \u001b[39m\u001b[32m1\u001b[39m overview = \u001b[43mgos\u001b[49m\u001b[43m.\u001b[49m\u001b[43moverlay\u001b[49m\u001b[43m(\u001b[49m\n\u001b[32m      2\u001b[39m \u001b[43m    \u001b[49m\u001b[43mupper_left\u001b[49m\u001b[43m,\u001b[49m\u001b[43m \u001b[49m\n\u001b[32m      3\u001b[39m \u001b[43m    \u001b[49m\u001b[43mbrush_track\u001b[49m\n\u001b[32m      4\u001b[39m \u001b[43m)\u001b[49m\n\u001b[32m      6\u001b[39m gos.vertical(\n\u001b[32m      7\u001b[39m     detailed, \n\u001b[32m      8\u001b[39m     overview\n\u001b[32m      9\u001b[39m ).save(\n\u001b[32m     10\u001b[39m     \u001b[33m'\u001b[39m\u001b[33mvisuals/recreation/all.json\u001b[39m\u001b[33m'\u001b[39m\n\u001b[32m     11\u001b[39m )\n",
      "\u001b[36mFile \u001b[39m\u001b[32m~/Desktop/hidive/DQVis-Generation/hidive-env/lib/python3.13/site-packages/gosling/api.py:264\u001b[39m, in \u001b[36moverlay\u001b[39m\u001b[34m(*tracks, **kwargs)\u001b[39m\n\u001b[32m    262\u001b[39m \u001b[38;5;28;01mdef\u001b[39;00m\u001b[38;5;250m \u001b[39m\u001b[34moverlay\u001b[39m(*tracks: Union[Track, View], **kwargs) -> View:\n\u001b[32m    263\u001b[39m \u001b[38;5;250m    \u001b[39m\u001b[33;03m\"\"\"Compose an overlaid view from multiple tracks or overliad tracks\"\"\"\u001b[39;00m\n\u001b[32m--> \u001b[39m\u001b[32m264\u001b[39m     \u001b[38;5;28;01mreturn\u001b[39;00m \u001b[43mView\u001b[49m\u001b[43m(\u001b[49m\u001b[43malignment\u001b[49m\u001b[43m=\u001b[49m\u001b[33;43m\"\u001b[39;49m\u001b[33;43moverlay\u001b[39;49m\u001b[33;43m\"\u001b[39;49m\u001b[43m,\u001b[49m\u001b[43m \u001b[49m\u001b[43mtracks\u001b[49m\u001b[43m=\u001b[49m\u001b[43mtracks\u001b[49m\u001b[43m,\u001b[49m\u001b[43m \u001b[49m\u001b[43m*\u001b[49m\u001b[43m*\u001b[49m\u001b[43mkwargs\u001b[49m\u001b[43m)\u001b[49m\n",
      "\u001b[36mFile \u001b[39m\u001b[32m~/Desktop/hidive/DQVis-Generation/hidive-env/lib/python3.13/site-packages/gosling/schema/core.py:31\u001b[39m, in \u001b[36mRoot.__init__\u001b[39m\u001b[34m(self, *args, **kwds)\u001b[39m\n\u001b[32m     30\u001b[39m \u001b[38;5;28;01mdef\u001b[39;00m\u001b[38;5;250m \u001b[39m\u001b[34m__init__\u001b[39m(\u001b[38;5;28mself\u001b[39m, *args, **kwds):\n\u001b[32m---> \u001b[39m\u001b[32m31\u001b[39m     \u001b[38;5;28;43msuper\u001b[39;49m\u001b[43m(\u001b[49m\u001b[43mRoot\u001b[49m\u001b[43m,\u001b[49m\u001b[43m \u001b[49m\u001b[38;5;28;43mself\u001b[39;49m\u001b[43m)\u001b[49m\u001b[43m.\u001b[49m\u001b[34;43m__init__\u001b[39;49m\u001b[43m(\u001b[49m\u001b[43m*\u001b[49m\u001b[43margs\u001b[49m\u001b[43m,\u001b[49m\u001b[43m \u001b[49m\u001b[43m*\u001b[49m\u001b[43m*\u001b[49m\u001b[43mkwds\u001b[49m\u001b[43m)\u001b[49m\n",
      "\u001b[36mFile \u001b[39m\u001b[32m~/Desktop/hidive/DQVis-Generation/hidive-env/lib/python3.13/site-packages/gosling/schemapi.py:177\u001b[39m, in \u001b[36mSchemaBase.__init__\u001b[39m\u001b[34m(self, *args, **kwds)\u001b[39m\n\u001b[32m    174\u001b[39m \u001b[38;5;28mobject\u001b[39m.\u001b[34m__setattr__\u001b[39m(\u001b[38;5;28mself\u001b[39m, \u001b[33m\"\u001b[39m\u001b[33m_kwds\u001b[39m\u001b[33m\"\u001b[39m, kwds)\n\u001b[32m    176\u001b[39m \u001b[38;5;28;01mif\u001b[39;00m DEBUG_MODE \u001b[38;5;129;01mand\u001b[39;00m \u001b[38;5;28mself\u001b[39m._class_is_valid_at_instantiation:\n\u001b[32m--> \u001b[39m\u001b[32m177\u001b[39m     \u001b[38;5;28;43mself\u001b[39;49m\u001b[43m.\u001b[49m\u001b[43mto_dict\u001b[49m\u001b[43m(\u001b[49m\u001b[43mvalidate\u001b[49m\u001b[43m=\u001b[49m\u001b[38;5;28;43;01mTrue\u001b[39;49;00m\u001b[43m)\u001b[49m\n",
      "\u001b[36mFile \u001b[39m\u001b[32m~/Desktop/hidive/DQVis-Generation/hidive-env/lib/python3.13/site-packages/gosling/schemapi.py:340\u001b[39m, in \u001b[36mSchemaBase.to_dict\u001b[39m\u001b[34m(self, validate, ignore, context)\u001b[39m\n\u001b[32m    338\u001b[39m         \u001b[38;5;28mself\u001b[39m.validate(result)\n\u001b[32m    339\u001b[39m     \u001b[38;5;28;01mexcept\u001b[39;00m jsonschema.ValidationError \u001b[38;5;28;01mas\u001b[39;00m err:\n\u001b[32m--> \u001b[39m\u001b[32m340\u001b[39m         \u001b[38;5;28;01mraise\u001b[39;00m SchemaValidationError(\u001b[38;5;28mself\u001b[39m, err)\n\u001b[32m    341\u001b[39m \u001b[38;5;28;01mreturn\u001b[39;00m result\n",
      "\u001b[31mSchemaValidationError\u001b[39m: Invalid specification\n\n        gosling.api.View, validating 'anyOf'\n\n        {'alignment': 'overlay', 'tracks': [{'tracks': [{'data': {'type': 'multivec', 'url': 'https://server.gosling-lang.org/api/v1/tileset_info/?d=cistrome-multivec', 'categories': ['sample 1', 'sample 2', 'sample 3', 'sample 4'], 'column': 'position', 'row': 'sample', 'value': 'peak'}, 'mark': 'bar', 'color': {'field': 'sample', 'type': 'nominal'}, 'row': {'field': 'sample', 'type': 'nominal'}, 'x': {'field': 'position', 'linkingId': 'sameId', 'type': 'genomic'}, 'y': {'field': 'peak', 'type': 'quantitative'}}], 'static': True, 'layout': 'circular'}, {'tracks': [{'data': {'type': 'multivec', 'url': 'https://server.gosling-lang.org/api/v1/tileset_info/?d=cistrome-multivec', 'categories': ['sample 1', 'sample 2', 'sample 3', 'sample 4'], 'column': 'position', 'row': 'sample', 'value': 'peak'}, 'mark': 'brush', 'color': {'value': 'steelblue'}, 'row': {'field': 'sample', 'type': 'nominal'}, 'x': {'field': 'start', 'linkingId': 'sameId', 'type': 'genomic'}, 'y': {'field': 'peak', 'type': 'quantitative'}}], 'width': 50}]} is not valid under any of the given schemas\n        "
     ]
    }
   ],
   "source": [
    "overview = gos.overlay(\n",
    "    upper_left, \n",
    "    brush_track\n",
    ")\n",
    "\n",
    "gos.vertical(\n",
    "    detailed, \n",
    "    overview\n",
    ").save(\n",
    "    'visuals/recreation/all.json'\n",
    ")"
   ]
  }
 ],
 "metadata": {
  "kernelspec": {
   "display_name": "hidive-env",
   "language": "python",
   "name": "python3"
  },
  "language_info": {
   "codemirror_mode": {
    "name": "ipython",
    "version": 3
   },
   "file_extension": ".py",
   "mimetype": "text/x-python",
   "name": "python",
   "nbconvert_exporter": "python",
   "pygments_lexer": "ipython3",
   "version": "3.13.4"
  }
 },
 "nbformat": 4,
 "nbformat_minor": 2
}
