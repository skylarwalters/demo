{
 "cells": [
  {
   "cell_type": "markdown",
   "metadata": {},
   "source": [
    "# Gosling Demo"
   ]
  },
  {
   "cell_type": "markdown",
   "metadata": {},
   "source": [
    "In this notebook, I am going to do an example gosling demo. This will include:\n",
    "1. A basic gosling visualization of gene expression data\n",
    "2. Several tutorials from the 2022 ISMB demo\n",
    "3. A heatmap\n",
    "4. A recreation of [this](https://gosling.js.org/?example=LINKING) visualization using the gos package"
   ]
  },
  {
   "cell_type": "code",
   "execution_count": 3,
   "metadata": {},
   "outputs": [],
   "source": [
    "# imports\n",
    "import gosling as gos"
   ]
  },
  {
   "cell_type": "markdown",
   "metadata": {},
   "source": [
    "#### Warmup: Gene expression data\n",
    "To start, I am making a basic visual of gene expression data using the BIGWIG ChIP-seq dataset in the gosling documentation. This is to test out different configurations and how they impact a visualization.\n",
    "\n",
    "Dataset: [BigWig ChIP-seq for H2AZ](https://s3.amazonaws.com/gosling-lang.org/data/4DNFIMPI5A9N.bw), from gosling plain datasets"
   ]
  },
  {
   "cell_type": "code",
   "execution_count": 120,
   "metadata": {},
   "outputs": [],
   "source": [
    "# create a new track\n",
    "vis = gos.Track(\n",
    "    data=gos.BigWigData(\n",
    "        'bigwig',\n",
    "        url='https://4dn-open-data-public.s3.amazonaws.com/fourfront-webprod/wfoutput/a57e91de-47f9-4157-9462-50fc78f357e3/4DNFIMPI5A9N.bw',\n",
    "        # setting this value allows you to update the value of y!\n",
    "        #column='position'\n",
    "        value='line'\n",
    "    ),\n",
    ").mark_area(\n",
    "    # mark_area: sets the output to an area graph\n",
    "    # other option that may apply here --> mark_line\n",
    ").encode(\n",
    "    # can use this format for x, or set x to the column setting from the data declaration\n",
    "    x=gos.X('position:G', domain=gos.DomainChr('chr2')),\n",
    "    # DomainChr: allows you to zoom on a specific chromosome\n",
    "    y='line:Q'\n",
    ").view()\n",
    "\n",
    "# can also save as html to view in browser!\n",
    "vis.save('visuals/basic-gene-expr.json')"
   ]
  },
  {
   "cell_type": "markdown",
   "metadata": {},
   "source": [
    "### Tutorials\n",
    "In this section, I'm going to learn more about writing in-depth gosling specs via the ISMB tutorials. "
   ]
  },
  {
   "cell_type": "markdown",
   "metadata": {},
   "source": [
    "#### Single Track\n",
    "Data: [BED file](https://raw.githubusercontent.com/sehilyi/gemini-datasets/master/data/UCSC.HG38.Human.CytoBandIdeogram.bed) with cytoband information"
   ]
  },
  {
   "cell_type": "code",
   "execution_count": 132,
   "metadata": {},
   "outputs": [],
   "source": [
    "# import data into csv wrapper\n",
    "data=gos.csv(\n",
    "    url='https://raw.githubusercontent.com/sehilyi/gemini-datasets/master/data/UCSC.HG38.Human.CytoBandIdeogram.bed',\n",
    "    separator=\"\\t\",\n",
    "    # identify headers and genomic fields\n",
    "    headerNames=['chrom', 'chromStart', 'chromEnd', 'name', 'stain'],\n",
    "    chromosomeField=\"chrom\",\n",
    "    genomicFields=[\"chromStart\", \"chromEnd\"]\n",
    ")\n",
    "\n",
    "# add data to track and view\n",
    "view = gos.Track(data).mark_point().encode(\n",
    "    # apply visual encoding\n",
    "    x=gos.X('chromStart', type='genomic'),\n",
    "    # or: x=gos.X('chromStart:G')\n",
    "    #y=gos.Y('chromStart', type='genomic',axis='left'),\n",
    "    color=gos.value('lightblue')\n",
    ").view()\n",
    "\n",
    "# save as json and html\n",
    "view.save('visuals/single-track-tutorial.json')\n",
    "view.save('visuals/single-track-tutorial.html')"
   ]
  },
  {
   "cell_type": "code",
   "execution_count": null,
   "metadata": {},
   "outputs": [],
   "source": []
  },
  {
   "cell_type": "markdown",
   "metadata": {},
   "source": []
  },
  {
   "cell_type": "markdown",
   "metadata": {},
   "source": [
    "Lovely! Now that we have a basic visualization working for gene expression data, we can try adding some complexity in view (ie, colors, legend, etc.)"
   ]
  },
  {
   "cell_type": "markdown",
   "metadata": {},
   "source": [
    "Next, we are going to try out \n"
   ]
  },
  {
   "cell_type": "markdown",
   "metadata": {},
   "source": []
  },
  {
   "cell_type": "markdown",
   "metadata": {},
   "source": []
  },
  {
   "cell_type": "markdown",
   "metadata": {},
   "source": [
    "#### Visual Linking!!\n",
    "The goal of this section is to recreate (this)[https://gosling.js.org/?example=LINKING] visualization using gos\n",
    "\n",
    "How is this being structured?\n",
    "- view with 3 tracks\n",
    "    - one subview (horizontal) and one track\n",
    "\n",
    "To do this, we can structure from the individual tracks up to the views (recall that alignment happens in the view level!)"
   ]
  },
  {
   "cell_type": "markdown",
   "metadata": {},
   "source": [
    "We can complete this by writing each track individually, then combining them into a big view. How do you eat an elephant? You chunk it down."
   ]
  },
  {
   "cell_type": "code",
   "execution_count": 115,
   "metadata": {},
   "outputs": [],
   "source": [
    "# linear tracks\n",
    "detail_view=gos.Track(\n",
    "    data=gos.MultivecData(\n",
    "        type='multivec',\n",
    "        url='https://server.gosling-lang.org/api/v1/tileset_info/?d=cistrome-multivec',\n",
    "        row='sample',\n",
    "        column='position',\n",
    "        value='peak',\n",
    "        # define categories for use in individual overlays!\n",
    "        categories = ['sample 1', 'sample 2', 'sample 3', 'sample 4']\n",
    "    ),\n",
    "    layout='linear',\n",
    "    linkingId='detail'\n",
    ").mark_area(\n",
    ").encode(\n",
    "    x=gos.X('position:G', axis='top', domain=gos.DomainChr('chr1')),\n",
    "    y=gos.Y('peak:Q'),\n",
    "    row=gos.Row('sample:N'),\n",
    "    color=gos.Color('sample:N')\n",
    ").view()\n",
    "\n",
    "detail_view.save('detail_view.html')"
   ]
  },
  {
   "cell_type": "code",
   "execution_count": 116,
   "metadata": {},
   "outputs": [],
   "source": [
    "# upper left track\n",
    "circle_brush=gos.Track(\n",
    "    data=gos.MultivecData(\n",
    "        type='multivec',\n",
    "        url='https://server.gosling-lang.org/api/v1/tileset_info/?d=cistrome-multivec',\n",
    "        row='sample',\n",
    "        column='position',\n",
    "        value='peak',\n",
    "        # define categories for use in individual overlays!\n",
    "        categories = ['sample 1', 'sample 2', 'sample 3', 'sample 4']\n",
    "    ),\n",
    "    static=True,\n",
    "    layout='circular',\n",
    "    \n",
    ").mark_area(\n",
    ").encode(\n",
    "    x=gos.X('position:G', domain=gos.DomainChr('chr1')),\n",
    "    xe=gos.X(field='end', domain=gos.DomainChr('chr1')),\n",
    "    y='peak:Q',\n",
    "    row=gos.Row('sample:N'),\n",
    "    color=gos.Color('sample:N')\n",
    ").view()\n",
    "\n",
    "\n",
    "circle_brush.save('upper_left.html')"
   ]
  },
  {
   "cell_type": "code",
   "execution_count": null,
   "metadata": {},
   "outputs": [],
   "source": [
    "# upper right track\n",
    "\n",
    "          \"alignment\": \"overlay\",\n",
    "          \"tracks\": [\n",
    "            {\"mark\": \"bar\"},\n",
    "            {\"mark\": \"brush\", \"x\": {\"linkingId\": \"detail\"}}\n",
    "          ],"
   ]
  },
  {
   "cell_type": "code",
   "execution_count": null,
   "metadata": {},
   "outputs": [],
   "source": []
  },
  {
   "cell_type": "code",
   "execution_count": null,
   "metadata": {},
   "outputs": [],
   "source": []
  }
 ],
 "metadata": {
  "kernelspec": {
   "display_name": "hidive-env",
   "language": "python",
   "name": "python3"
  },
  "language_info": {
   "codemirror_mode": {
    "name": "ipython",
    "version": 3
   },
   "file_extension": ".py",
   "mimetype": "text/x-python",
   "name": "python",
   "nbconvert_exporter": "python",
   "pygments_lexer": "ipython3",
   "version": "3.13.4"
  }
 },
 "nbformat": 4,
 "nbformat_minor": 2
}
